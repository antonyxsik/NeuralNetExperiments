{
 "cells": [
  {
   "attachments": {},
   "cell_type": "markdown",
   "metadata": {},
   "source": [
    "#### Training and Testing File\n",
    "\n",
    "Since this is a very simple network, we will do the training and testing all right here in this one Jupyter Notebook file. \n",
    "\n",
    "\n",
    "Calls upon the `model_NN` file for the actual Neural Network, and the `data_MNIST` file to load our data sets. \n",
    "\n",
    "\n",
    "The outputs are printed for us to track the progressive improvement in accuracy. \n",
    "\n",
    "\n",
    "\n",
    "\n",
    "*May add visuals/graphs to track progress later...*\n"
   ]
  },
  {
   "cell_type": "code",
   "execution_count": null,
   "metadata": {},
   "outputs": [],
   "source": [
    "#Libraries \n",
    "import numpy as np \n",
    "import random\n",
    "import data_MNIST\n",
    "import model_NN"
   ]
  },
  {
   "cell_type": "code",
   "execution_count": null,
   "metadata": {},
   "outputs": [],
   "source": [
    "#Loading data sets\n",
    "#for our initial purposes, we do not need the validation set yet\n",
    "training_data, validation_data, test_data = data_MNIST.data_loader()\n",
    "training_data = list(training_data)"
   ]
  },
  {
   "cell_type": "code",
   "execution_count": null,
   "metadata": {},
   "outputs": [],
   "source": [
    "#training and testing the actual neural network\n",
    "babyNN = model_NN.Network([784,30,10], learnRate = 3.0, miniBatchSize = 12, numEpochs = 20)\n",
    "babyNN.train(training_data= training_data, test_data = test_data)"
   ]
  }
 ],
 "metadata": {
  "kernelspec": {
   "display_name": "MLsession",
   "language": "python",
   "name": "python3"
  },
  "language_info": {
   "codemirror_mode": {
    "name": "ipython",
    "version": 3
   },
   "file_extension": ".py",
   "mimetype": "text/x-python",
   "name": "python",
   "nbconvert_exporter": "python",
   "pygments_lexer": "ipython3",
   "version": "3.11.1 (tags/v3.11.1:a7a450f, Dec  6 2022, 19:58:39) [MSC v.1934 64 bit (AMD64)]"
  },
  "orig_nbformat": 4,
  "vscode": {
   "interpreter": {
    "hash": "f77850e64904ccc21d42e1ee40e83e139731fe00214ba210b48ab95f6c70ce04"
   }
  }
 },
 "nbformat": 4,
 "nbformat_minor": 2
}
